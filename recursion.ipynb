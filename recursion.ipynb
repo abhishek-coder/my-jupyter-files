{
 "cells": [
  {
   "cell_type": "code",
   "execution_count": null,
   "metadata": {},
   "outputs": [],
   "source": [
    "###doing a factorial using recursion\n",
    "def fact(n):\n",
    "    return n*fact(n-1)\n",
    "##now there is an error in this code is that it will run fine but has not a base value or stopping value it will run till infinity\n"
   ]
  },
  {
   "cell_type": "code",
   "execution_count": null,
   "metadata": {},
   "outputs": [],
   "source": [
    "def fact(n):\n",
    "    if n==0:\n",
    "        return 1\n",
    "    return n*fact(n-1)\n",
    "    \n",
    "n=int(input())\n",
    "fact(n)\n",
    "#this will work absolutely fine with actually a base or a stopping value that is n=0\n"
   ]
  },
  {
   "cell_type": "code",
   "execution_count": null,
   "metadata": {},
   "outputs": [],
   "source": [
    "##now doing this question without using recursion\n",
    "def fact(n):\n",
    "    fact=1\n",
    "    for i in range(1,n+1):\n",
    "        fact*=i\n",
    "    return fact\n",
    "n=int(input())\n",
    "fact(n)"
   ]
  },
  {
   "cell_type": "code",
   "execution_count": null,
   "metadata": {},
   "outputs": [],
   "source": [
    "#sum of all natural numbers using recursion\n",
    "def sum_n(n):\n",
    "    if n==0:\n",
    "        return 0\n",
    "    return n+sum_n(n-1)\n",
    "n=int(input())\n",
    "sum_n(n)"
   ]
  },
  {
   "cell_type": "code",
   "execution_count": null,
   "metadata": {},
   "outputs": [],
   "source": [
    "#Write a program to find x to the power n (i.e. x^n). Take x and n from the user. You need to print the answer.\n",
    "def power_n(n,x):\n",
    "    if (x==0 and n==0):\n",
    "        return 1\n",
    "    \n",
    "    return x**n\n",
    "n=int(input())\n",
    "x=int(input())\n",
    "power_n(n,x)"
   ]
  },
  {
   "cell_type": "code",
   "execution_count": null,
   "metadata": {},
   "outputs": [],
   "source": [
    "def power_n(n,x):\n",
    "    if (x==0 and n==0):\n",
    "        return 1\n",
    "    \n",
    "    return x**n\n",
    "integer=input().split()\n",
    "x=int(integer[0])\n",
    "n=int(integer[1])\n",
    "\n",
    "\n",
    "power_n(n,x)"
   ]
  },
  {
   "cell_type": "code",
   "execution_count": null,
   "metadata": {},
   "outputs": [],
   "source": [
    "#using recursion\n",
    "def power__n(n,x):\n",
    "    if(n==0 and x==0):\n",
    "        return 1\n",
    "    else:\n",
    "        if x==0:\n",
    "            return 1\n",
    "        return n*power__n(n,x-1)\n",
    "n=int(input())\n",
    "x=int(input())\n",
    "power__n(n,x)"
   ]
  },
  {
   "cell_type": "code",
   "execution_count": null,
   "metadata": {},
   "outputs": [],
   "source": [
    "##printing number from 1 to n\n",
    "n=int(input())\n",
    "for i in range(1,n+1):\n",
    "    print(i,end=' ')"
   ]
  },
  {
   "cell_type": "code",
   "execution_count": null,
   "metadata": {},
   "outputs": [],
   "source": [
    "##printing 1 to n using recursion\n",
    "def sum_n(n):\n",
    "    if n==0:\n",
    "        return \n",
    "    sum_n(n-1)\n",
    "    print(n)\n",
    "    \n",
    "\n",
    "sum_n(n=int(input()))    \n",
    "    "
   ]
  },
  {
   "cell_type": "code",
   "execution_count": null,
   "metadata": {},
   "outputs": [],
   "source": [
    "#printing number from n to 1\n",
    "n=int(input())\n",
    "for i in range(n,0,-1):\n",
    "    print(i)"
   ]
  },
  {
   "cell_type": "code",
   "execution_count": null,
   "metadata": {},
   "outputs": [],
   "source": [
    "##printing number from n to 1 with the help of recursion\n",
    "def sum__n(n):\n",
    "    if n==0:\n",
    "        return\n",
    "    print(n)\n",
    "    sum__n(n-1)\n",
    "\n",
    "sum__n(n=int(input()))\n"
   ]
  },
  {
   "cell_type": "code",
   "execution_count": null,
   "metadata": {},
   "outputs": [],
   "source": [
    "##finding a fibbonaci member using recursion\n",
    "def fibb(n):\n",
    "    if(n==1 or n==2):\n",
    "        return 1\n",
    "    fibb_1=fibb(n-1)\n",
    "    fibb_2=fibb(n-2)\n",
    "    return fibb(n-1)+fibb(n-2)\n",
    "\n",
    "fibb(n=int(input()))\n",
    "    "
   ]
  },
  {
   "cell_type": "code",
   "execution_count": null,
   "metadata": {},
   "outputs": [],
   "source": [
    "##fibonacci number withoutn using recursion\n",
    "n=int(input())\n",
    "a=0\n",
    "b=1\n",
    "if n==0:\n",
    "    print(0)\n",
    "elif n==1:\n",
    "    print(1)\n",
    "else:\n",
    "    for i in range(2,n+1):\n",
    "        c=a+b\n",
    "        a=b\n",
    "        b=c\n",
    "        print(b)   "
   ]
  },
  {
   "cell_type": "code",
   "execution_count": null,
   "metadata": {},
   "outputs": [],
   "source": [
    "import sys\n",
    "sys.setrecursionlimit(3000)"
   ]
  },
  {
   "cell_type": "code",
   "execution_count": null,
   "metadata": {},
   "outputs": [],
   "source": [
    "##recursion depth\n",
    "def fact(n):\n",
    "    if n==0:\n",
    "        return 1\n",
    "    return n*fact(n-1)\n",
    "\n",
    "fact(n=int(input()))"
   ]
  },
  {
   "cell_type": "code",
   "execution_count": null,
   "metadata": {},
   "outputs": [],
   "source": [
    "# check if list is sorted\n",
    "l=[1,2,3,4,7]\n",
    "flag=False\n",
    "for i in range(1,len(l)):\n",
    "        if(l[i]<l[i-1]):\n",
    "            flag=True\n",
    "        else:\n",
    "            flag=False\n",
    "if(not(flag)):\n",
    "    print('true')\n",
    "else:\n",
    "    print('false')"
   ]
  },
  {
   "cell_type": "code",
   "execution_count": null,
   "metadata": {},
   "outputs": [],
   "source": [
    "l=[int(x) for x in input().split()]\n",
    "b=[]\n",
    "a=sorted(l)\n",
    "for i in a:\n",
    "    b.append(i)\n",
    "    \n",
    "if(b==l):\n",
    "    print('true')\n",
    "else:\n",
    "    print('false')\n",
    "\n",
    "\n",
    "\n",
    "    "
   ]
  },
  {
   "cell_type": "code",
   "execution_count": null,
   "metadata": {},
   "outputs": [],
   "source": [
    "##check if list is sorted using recursion\n",
    "##base case:if len(a)==0 or len(a)==1 return true\n",
    "##induction hypothesis: i am gonna assume that my function working fine fir len(a)-1\n",
    "##induction step: i have to check for a[0] if it is greater than the a[1] return false else return true\n",
    "def isSorted(a):\n",
    "    l=len(a)\n",
    "    if(l==0 or l==1):\n",
    "        return True\n",
    "    if(a[0]>a[1]):\n",
    "        return False\n",
    "    sortedlist=a[1:]\n",
    "    return isSorted(sortedlist)\n",
    "a=[1,2,3,4,5,7,8,8]\n",
    "isSorted(a)"
   ]
  },
  {
   "cell_type": "code",
   "execution_count": null,
   "metadata": {},
   "outputs": [],
   "source": [
    "a=[1,3,2,4]\n",
    "b=sorted(a)\n",
    "print(b)\n",
    "print(a)"
   ]
  },
  {
   "cell_type": "code",
   "execution_count": null,
   "metadata": {},
   "outputs": [],
   "source": [
    "##sum of array using recursion\n",
    "##base value : if n==1 return a[1]\n",
    "##induction hypothesis : i m gonna assume that my function is working absolutely fine for len(a)-1\n",
    "##induction step: add first term in sum_of_aray(sorted array)+a[1]\n",
    "def sum_of_array(a):\n",
    "    l=len(a)\n",
    "    if l==1:\n",
    "        return a[0]\n",
    "    sortedlist=a[1:]\n",
    "    return sum_of_array(sortedlist)+a[0]\n",
    "a=[1,2,3,4,5,5,6,3,4,3,4]\n",
    "sum_of_array(a)"
   ]
  },
  {
   "cell_type": "code",
   "execution_count": null,
   "metadata": {},
   "outputs": [],
   "source": [
    "#sum of an array without using recursion\n",
    "sum=0\n",
    "a=[1,2,3,4,5]\n",
    "for i in a:\n",
    "    sum+=i\n",
    "print(sum)    "
   ]
  },
  {
   "cell_type": "code",
   "execution_count": null,
   "metadata": {},
   "outputs": [],
   "source": [
    "##find the given number in an array\n",
    "a=[1,2,3,4]\n",
    "flag=False\n",
    "x=4\n",
    "l=len(a)\n",
    "for i in range(l):\n",
    "    if(a[i]==x):\n",
    "        flag=True\n",
    "if flag:\n",
    "    print('true')\n",
    "else:\n",
    "    print('false')"
   ]
  },
  {
   "cell_type": "code",
   "execution_count": null,
   "metadata": {},
   "outputs": [],
   "source": [
    "##find the given number in an array\n",
    "##base case:if a[0]==x return True\n",
    "##induction hypothesis:i am going to assume my function working fine for len(a)-1\n",
    "##induction step: if my x is in then it will be true\n",
    "def checkNumber(arr,x):\n",
    "    l=len(arr)\n",
    "    if(l==0):\n",
    "        return\n",
    "    if(arr[0]==x):\n",
    "        return True\n",
    "    lefted_list=arr[1:]\n",
    "    return checkNumber(lefted_list,x)\n",
    "\n",
    "arr=[1,2,3,4]\n",
    "checkNumber(arr,2)\n",
    "if checkNumber(arr,2):\n",
    "    print('true')\n",
    "else:\n",
    "    print('false')\n"
   ]
  },
  {
   "cell_type": "code",
   "execution_count": null,
   "metadata": {},
   "outputs": [],
   "source": [
    "# the previous method of checking the sorted list was making copies of an array in this method we are going to pass another arguement to the function which will be the starting index\n",
    "##base case:si==l-1 or si ==l: return true\n",
    "#induction hypothesis: sorted(a,si+1)\n",
    "#induction step: a[si]<a[si+1]: true\n",
    "def isSorted(arr,si):\n",
    "    l=len(arr)\n",
    "    if (l==si or si==l-1):\n",
    "        return True\n",
    "    if(arr[si]>arr[si+1]): #if(arr[si]<arr[si+1]):\n",
    "        return False       #      return True\n",
    "    return isSorted(arr,si+1)\n",
    "arr=[1,2,3,1,7,8,9]\n",
    "isSorted(arr,0)"
   ]
  },
  {
   "cell_type": "code",
   "execution_count": null,
   "metadata": {},
   "outputs": [],
   "source": [
    "def isSorted(arr,si):\n",
    "    l=len(arr)\n",
    "    if (si==l-1):\n",
    "        return True\n",
    "    if(arr[si]>arr[si+1]):\n",
    "        return False     \n",
    "    return isSorted(arr,si+1)\n",
    "arr=[1,2,3,1,7,8,9]\n",
    "isSorted(arr,0)"
   ]
  },
  {
   "cell_type": "code",
   "execution_count": null,
   "metadata": {},
   "outputs": [],
   "source": [
    "##first index of the number\n",
    "##base case:if len(li)==0 return -1\n",
    "##induction hypothesis:i would assume that my funtion workinf fine for (li[1:])+1\n",
    "##induction steps:if l[0]==xreturn index \n",
    "def first_index(arr,x):\n",
    "    l=len(arr)\n",
    "    if (l==0):\n",
    "        return -1\n",
    "    if (arr[0]==x):\n",
    "        return 0\n",
    "    smallerlist=arr[1:]\n",
    "    smalleroutput=first_index(smallerlist,x)\n",
    "    if smalleroutput==-1:\n",
    "        return -1\n",
    "    else:\n",
    "        return smalleroutput+1\n",
    "arr=[1,2,3,4]\n",
    "first_index(arr,3)\n",
    "    "
   ]
  },
  {
   "cell_type": "code",
   "execution_count": null,
   "metadata": {},
   "outputs": [],
   "source": [
    "def firstIndexb(arr,x,si):\n",
    "    l=len(arr)\n",
    "    if(si==l):\n",
    "        return -1\n",
    "    if(arr[si]==x):\n",
    "        return si\n",
    "    smalleroutput=firstIndexb(arr,x,si+1)\n",
    "    return smalleroutput\n",
    "arr=[1,2,3,4,5,6]\n",
    "firstIndexb(arr,5,0)"
   ]
  },
  {
   "cell_type": "code",
   "execution_count": null,
   "metadata": {},
   "outputs": [],
   "source": [
    "##finding the last index of an element in an array\n",
    "##base case:l==0 return -1\n",
    "##induction hypothesis: my answer will be given by shorter array a[1:]\n",
    "##induction step:first i am gonna call the smallerfunction if it returns -1 only then i am going to check at first index otherwise just return the index\n",
    "def LastIndex(arr,x):\n",
    "    l=len(arr)\n",
    "    if (l==0):\n",
    "        return -1\n",
    "    smallerlist=arr[1:]\n",
    "    smalleroutput=LastIndex(arr[1:],x)\n",
    "    if smalleroutput==-1:\n",
    "        if(arr[0]==x):\n",
    "            return 0\n",
    "    else:\n",
    "        return smalleroutput+1\n",
    "arr=[21,22,46,12,61,21,33,16,99,96]\n",
    "LastIndex(arr,5)\n"
   ]
  },
  {
   "cell_type": "code",
   "execution_count": 55,
   "metadata": {},
   "outputs": [
    {
     "name": "stdout",
     "output_type": "stream",
     "text": [
      "23\n",
      "34 57 82 41 65 35 82 27 36 12 6 40 66 99 25 29 22 25 12 24 65 15 5 43 28 33 76 32 13 95 22 84 71 23 28 7 65 94 18 47 9 42 61 73\n",
      "61\n"
     ]
    },
    {
     "data": {
      "text/plain": [
       "42"
      ]
     },
     "execution_count": 55,
     "metadata": {},
     "output_type": "execute_result"
    }
   ],
   "source": [
    "def LastIndex(arr,x):\n",
    "    l=len(arr)\n",
    "    if (l==0):\n",
    "        return -1\n",
    "    smallerlist=arr[1:]\n",
    "    smalleroutput=LastIndex(smallerlist,x)\n",
    "    if smalleroutput==-1:\n",
    "        if(arr[0]==x):\n",
    "            return 0\n",
    "        else:\n",
    "            return -1\n",
    "    else:\n",
    "        return smalleroutput+1\n",
    "N=int(input())\n",
    "arr=[int(x) for x in input().split()]\n",
    "x=int(input())\n",
    "LastIndex(arr,x)"
   ]
  },
  {
   "cell_type": "code",
   "execution_count": 54,
   "metadata": {},
   "outputs": [
    {
     "data": {
      "text/plain": [
       "-1"
      ]
     },
     "execution_count": 54,
     "metadata": {},
     "output_type": "execute_result"
    }
   ],
   "source": [
    "def last_index(arr,x):\n",
    "    l=len(arr)\n",
    "    if (l==0):\n",
    "        return -1\n",
    "    if(arr[l-1]==x):\n",
    "        return l-1\n",
    "    smallerlist=arr[:l-1]\n",
    "    smalleroutput=last_index(smallerlist,x)\n",
    "    \n",
    "    if smalleroutput==-1:\n",
    "        return -1\n",
    "    else:\n",
    "        return smalleroutput-1\n",
    "arr=[1,2,3,4,5,6,5]    \n",
    "last_index(arr,7)    \n",
    "    "
   ]
  },
  {
   "cell_type": "code",
   "execution_count": 13,
   "metadata": {},
   "outputs": [
    {
     "data": {
      "text/plain": [
       "3"
      ]
     },
     "execution_count": 13,
     "metadata": {},
     "output_type": "execute_result"
    }
   ],
   "source": [
    "def lastIndexb(arr, x, si):\n",
    "    l=len(arr)\n",
    "    if si==l:\n",
    "        return -1\n",
    "    smalleroutput=lastIndexb(arr,x,si+1)\n",
    "    if(smalleroutput!= -1):\n",
    "        return smalleroutput\n",
    "    else:\n",
    "        if(arr[si]==x):\n",
    "            return si\n",
    "        else:\n",
    "            return -1\n",
    "arr=[1,4,5,4,6]\n",
    "lastIndexb(arr,4,0)"
   ]
  },
  {
   "cell_type": "markdown",
   "metadata": {},
   "source": [
    "#### "
   ]
  },
  {
   "cell_type": "code",
   "execution_count": null,
   "metadata": {},
   "outputs": [],
   "source": []
  }
 ],
 "metadata": {
  "kernelspec": {
   "display_name": "Python 3",
   "language": "python",
   "name": "python3"
  },
  "language_info": {
   "codemirror_mode": {
    "name": "ipython",
    "version": 3
   },
   "file_extension": ".py",
   "mimetype": "text/x-python",
   "name": "python",
   "nbconvert_exporter": "python",
   "pygments_lexer": "ipython3",
   "version": "3.8.3"
  }
 },
 "nbformat": 4,
 "nbformat_minor": 4
}
