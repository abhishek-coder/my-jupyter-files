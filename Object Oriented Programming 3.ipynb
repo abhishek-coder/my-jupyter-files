{
 "cells": [
  {
   "cell_type": "markdown",
   "metadata": {},
   "source": [
    "# Abstract Classes"
   ]
  },
  {
   "cell_type": "code",
   "execution_count": 1,
   "metadata": {},
   "outputs": [],
   "source": [
    "# abstract classes are those classes which have abstract methods."
   ]
  },
  {
   "cell_type": "code",
   "execution_count": 2,
   "metadata": {},
   "outputs": [
    {
     "name": "stdout",
     "output_type": "stream",
     "text": [
      "car created\n",
      "bus created\n"
     ]
    }
   ],
   "source": [
    "from abc import ABC,abstractmethod\n",
    "class Automobile(ABC):\n",
    "    def __init__(self):\n",
    "        print('Automobile created')\n",
    "    @abstractmethod    \n",
    "    def start(self):\n",
    "        pass\n",
    "    @abstractmethod\n",
    "    def stop(self):\n",
    "        pass\n",
    "    @abstractmethod\n",
    "    def drive(self):\n",
    "        pass\n",
    "class Car(Automobile):\n",
    "    def __init__(self,name):\n",
    "        print('car created')\n",
    "        self.name=name\n",
    "    def start(self):\n",
    "        pass\n",
    "    def stop(self):\n",
    "        pass\n",
    "    def drive(self):\n",
    "        pass\n",
    "class Bus(Automobile):\n",
    "    def __init__(self,name):\n",
    "        print('bus created')\n",
    "        self.name=name\n",
    "    def start(self):\n",
    "        pass\n",
    "    def stop(self):\n",
    "        pass\n",
    "    def drive(self):\n",
    "        pass\n",
    "c=Car('honda') \n",
    "b=Bus('metro bus')"
   ]
  },
  {
   "cell_type": "markdown",
   "metadata": {},
   "source": [
    "# Abstract classes continue:"
   ]
  },
  {
   "cell_type": "code",
   "execution_count": 3,
   "metadata": {},
   "outputs": [
    {
     "name": "stdout",
     "output_type": "stream",
     "text": [
      "car created\n",
      "Automobile has been created\n",
      "start of car has been called\n",
      "bus created\n"
     ]
    }
   ],
   "source": [
    "from abc import ABC,abstractmethod\n",
    "class Automobile(ABC):\n",
    "    def __init__(self):\n",
    "        print('Automobile created')\n",
    "    @abstractmethod    \n",
    "    def start(self):\n",
    "        print('Automobile has been created')\n",
    "    @abstractmethod\n",
    "    def stop(self):\n",
    "        pass\n",
    "    @abstractmethod\n",
    "    def drive(self):\n",
    "        pass\n",
    "class Car(Automobile):\n",
    "    def __init__(self,name):\n",
    "        print('car created')\n",
    "        self.name=name\n",
    "    def start(self):\n",
    "        super().start()\n",
    "        print('start of car has been called')\n",
    "    def stop(self):\n",
    "        pass\n",
    "    def drive(self):\n",
    "        pass\n",
    "class Bus(Automobile):\n",
    "    def __init__(self,name):\n",
    "        print('bus created')\n",
    "        self.name=name\n",
    "    def start(self):\n",
    "        pass\n",
    "    def stop(self):\n",
    "        pass\n",
    "    def drive(self):\n",
    "        pass\n",
    "c=Car('honda')\n",
    "c.start()\n",
    "b=Bus('metro bus')"
   ]
  },
  {
   "cell_type": "markdown",
   "metadata": {},
   "source": [
    "## Error and Exceptions in Python"
   ]
  },
  {
   "cell_type": "code",
   "execution_count": 4,
   "metadata": {},
   "outputs": [
    {
     "ename": "SyntaxError",
     "evalue": "unmatched ')' (<ipython-input-4-a7ad1ef5689d>, line 1)",
     "output_type": "error",
     "traceback": [
      "\u001b[1;36m  File \u001b[1;32m\"<ipython-input-4-a7ad1ef5689d>\"\u001b[1;36m, line \u001b[1;32m1\u001b[0m\n\u001b[1;33m    a=abc)\u001b[0m\n\u001b[1;37m         ^\u001b[0m\n\u001b[1;31mSyntaxError\u001b[0m\u001b[1;31m:\u001b[0m unmatched ')'\n"
     ]
    }
   ],
   "source": [
    "a=abc)"
   ]
  },
  {
   "cell_type": "code",
   "execution_count": null,
   "metadata": {},
   "outputs": [],
   "source": [
    "a=10/0"
   ]
  },
  {
   "cell_type": "code",
   "execution_count": null,
   "metadata": {},
   "outputs": [],
   "source": [
    "## these are some of the errors made by us while doing a code"
   ]
  },
  {
   "cell_type": "markdown",
   "metadata": {},
   "source": [
    "# Intro to Exception Handling:"
   ]
  },
  {
   "cell_type": "code",
   "execution_count": null,
   "metadata": {},
   "outputs": [],
   "source": [
    "while True:\n",
    "    try:\n",
    "        n=input()\n",
    "        num=int(n)\n",
    "        m=input()\n",
    "        denom=int(m)\n",
    "        value=num/denom\n",
    "        print(value)\n",
    "        break\n",
    "    except ValueError:\n",
    "        print('numerator and denominator should be integers')"
   ]
  },
  {
   "cell_type": "markdown",
   "metadata": {},
   "source": [
    "## custom exceptions"
   ]
  },
  {
   "cell_type": "code",
   "execution_count": 5,
   "metadata": {},
   "outputs": [
    {
     "name": "stdout",
     "output_type": "stream",
     "text": [
      "2\n",
      "0\n"
     ]
    },
    {
     "ename": "NameError",
     "evalue": "",
     "output_type": "error",
     "traceback": [
      "\u001b[1;31m---------------------------------------------------------------------------\u001b[0m",
      "\u001b[1;31mNameError\u001b[0m                                 Traceback (most recent call last)",
      "\u001b[1;32m<ipython-input-5-ec3194c51008>\u001b[0m in \u001b[0;36m<module>\u001b[1;34m\u001b[0m\n\u001b[0;32m      6\u001b[0m         \u001b[0mdenom\u001b[0m\u001b[1;33m=\u001b[0m\u001b[0mint\u001b[0m\u001b[1;33m(\u001b[0m\u001b[0mm\u001b[0m\u001b[1;33m)\u001b[0m\u001b[1;33m\u001b[0m\u001b[1;33m\u001b[0m\u001b[0m\n\u001b[0;32m      7\u001b[0m         \u001b[1;32mif\u001b[0m \u001b[0mdenom\u001b[0m\u001b[1;33m==\u001b[0m\u001b[1;36m0\u001b[0m\u001b[1;33m:\u001b[0m\u001b[1;33m\u001b[0m\u001b[1;33m\u001b[0m\u001b[0m\n\u001b[1;32m----> 8\u001b[1;33m             \u001b[1;32mraise\u001b[0m \u001b[0mNameError\u001b[0m\u001b[1;33m\u001b[0m\u001b[1;33m\u001b[0m\u001b[0m\n\u001b[0m\u001b[0;32m      9\u001b[0m         \u001b[0mvalue\u001b[0m\u001b[1;33m=\u001b[0m\u001b[0mnum\u001b[0m\u001b[1;33m/\u001b[0m\u001b[0mdenom\u001b[0m\u001b[1;33m\u001b[0m\u001b[1;33m\u001b[0m\u001b[0m\n\u001b[0;32m     10\u001b[0m         \u001b[0mprint\u001b[0m\u001b[1;33m(\u001b[0m\u001b[0mvalue\u001b[0m\u001b[1;33m)\u001b[0m\u001b[1;33m\u001b[0m\u001b[1;33m\u001b[0m\u001b[0m\n",
      "\u001b[1;31mNameError\u001b[0m: "
     ]
    }
   ],
   "source": [
    "while True:\n",
    "    try:\n",
    "        n=input()\n",
    "        num=int(n)\n",
    "        m=input()\n",
    "        denom=int(m)\n",
    "        if denom==0:\n",
    "            raise NameError\n",
    "        value=num/denom\n",
    "        print(value)\n",
    "        break\n",
    "    except ValueError:\n",
    "        print('numerator and denominator should be integers')\n",
    "    except ZeroDivisionError:\n",
    "        print('denominator should not be zero')"
   ]
  },
  {
   "cell_type": "code",
   "execution_count": null,
   "metadata": {},
   "outputs": [],
   "source": []
  }
 ],
 "metadata": {
  "kernelspec": {
   "display_name": "Python 3",
   "language": "python",
   "name": "python3"
  },
  "language_info": {
   "codemirror_mode": {
    "name": "ipython",
    "version": 3
   },
   "file_extension": ".py",
   "mimetype": "text/x-python",
   "name": "python",
   "nbconvert_exporter": "python",
   "pygments_lexer": "ipython3",
   "version": "3.8.3"
  }
 },
 "nbformat": 4,
 "nbformat_minor": 4
}
