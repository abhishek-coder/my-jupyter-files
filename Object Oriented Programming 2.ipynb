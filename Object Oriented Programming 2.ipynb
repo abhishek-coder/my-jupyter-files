{
 "cells": [
  {
   "cell_type": "markdown",
   "metadata": {},
   "source": [
    "# basic of inheritence"
   ]
  },
  {
   "cell_type": "code",
   "execution_count": 2,
   "metadata": {},
   "outputs": [
    {
     "name": "stdout",
     "output_type": "stream",
     "text": [
      "Color : red\n",
      "maxspeed : 40\n",
      "numgears : 2\n",
      "isconvertible : False\n"
     ]
    }
   ],
   "source": [
    "class Vehicle:\n",
    "    def __init__(self,color,maxspeed):\n",
    "        self.color=color\n",
    "        self.maxspeed=maxspeed\n",
    "class Car(Vehicle):\n",
    "    def __init__(self,color,maxspeed,numgears,isconvertible):\n",
    "        super().__init__(color,maxspeed)\n",
    "        self.numgears=numgears\n",
    "        self.isconvertible=isconvertible\n",
    "        \n",
    "    def printcar(self):\n",
    "        print('Color :',self.color)\n",
    "        print('maxspeed :',self.maxspeed)\n",
    "        print('numgears :',self.numgears)\n",
    "        print('isconvertible :',self.isconvertible)\n",
    "c=Car('red',40,2,False)\n",
    "c.printcar()"
   ]
  },
  {
   "cell_type": "markdown",
   "metadata": {},
   "source": [
    "   # Inheritence and Private Members"
   ]
  },
  {
   "cell_type": "code",
   "execution_count": 10,
   "metadata": {},
   "outputs": [
    {
     "name": "stdout",
     "output_type": "stream",
     "text": [
      "Color : red\n",
      "maxspeed : 40\n",
      "numgears : 2\n",
      "isconvertible : False\n"
     ]
    }
   ],
   "source": [
    "class Vehicle:\n",
    "    def __init__(self,color,maxspeed):\n",
    "        self.color=color\n",
    "        self.__maxspeed=maxspeed\n",
    "    def Getmaxspeed(self):\n",
    "        return self.__maxspeed\n",
    "    def Setmaxspeed(self,maxspeed):\n",
    "        self.__maxspeed=maxspeed\n",
    "        \n",
    "class Car(Vehicle):\n",
    "    def __init__(self,color,maxspeed,numgears,isconvertible):\n",
    "        super().__init__(color,maxspeed)\n",
    "        self.numgears=numgears\n",
    "        self.isconvertible=isconvertible\n",
    "        \n",
    "    def printcar(self):\n",
    "        print('Color :',self.color)\n",
    "        print('maxspeed :',self.Getmaxspeed())\n",
    "        print('numgears :',self.numgears)\n",
    "        print('isconvertible :',self.isconvertible)\n",
    "c=Car('red',40,2,False)\n",
    "c.printcar()"
   ]
  },
  {
   "cell_type": "code",
   "execution_count": 15,
   "metadata": {},
   "outputs": [
    {
     "name": "stdout",
     "output_type": "stream",
     "text": [
      "black 5\n"
     ]
    }
   ],
   "source": [
    "class Vehicle:\n",
    "    def __init__(self,color):\n",
    "            self.__color = color\n",
    "    def Getcolor(self):\n",
    "        return self.__color\n",
    "    def setcolor(self,color):\n",
    "        self.__color=color\n",
    "        \n",
    "class Car(Vehicle):\n",
    "    def __init__(self,color,numGears):\n",
    "        super().__init__(color)\n",
    "        self.numGears = numGears\n",
    "    def printCar(self):\n",
    "        print(c.Getcolor(),end=' ' )\n",
    "        print(c.numGears)\n",
    "c = Car('black',5)\n",
    "c.printCar()"
   ]
  },
  {
   "cell_type": "markdown",
   "metadata": {},
   "source": [
    "  \n",
    "# Continuing Inheritance"
   ]
  },
  {
   "cell_type": "code",
   "execution_count": 4,
   "metadata": {},
   "outputs": [
    {
     "name": "stdout",
     "output_type": "stream",
     "text": [
      "Color : red\n",
      "maxspeed : 40\n",
      "numgears : 2\n",
      "isconvertible : False\n"
     ]
    }
   ],
   "source": [
    "class Vehicle:\n",
    "    def __init__(self,color,maxspeed):\n",
    "        self.color=color\n",
    "        self.__maxspeed=maxspeed\n",
    "    def Getmaxspeed(self):\n",
    "        return self.__maxspeed\n",
    "    def Setmaxspeed(self,maxspeed):\n",
    "        self.__maxspeed=maxspeed\n",
    "    def print(self):\n",
    "        print('Color :',self.color)\n",
    "        print('maxspeed :',self.__maxspeed)\n",
    "class Car(Vehicle):\n",
    "    def __init__(self,color,maxspeed,numgears,isconvertible):\n",
    "        super().__init__(color,maxspeed)\n",
    "        self.numgears=numgears\n",
    "        self.isconvertible=isconvertible\n",
    "        \n",
    "    def printcar(self):\n",
    "        self.print()\n",
    "        #super().print()\n",
    "        print('numgears :',self.numgears)\n",
    "        print('isconvertible :',self.isconvertible)\n",
    "c=Car('red',40,2,False)\n",
    "c.printcar()"
   ]
  },
  {
   "cell_type": "markdown",
   "metadata": {},
   "source": [
    "# Method Overriding (Polymorphism)"
   ]
  },
  {
   "cell_type": "code",
   "execution_count": 8,
   "metadata": {},
   "outputs": [
    {
     "name": "stdout",
     "output_type": "stream",
     "text": [
      "Color : red\n",
      "maxspeed : 40\n",
      "numgears : 2\n",
      "isconvertible : False\n",
      "\n",
      "Color : red\n",
      "maxspeed : 40\n"
     ]
    }
   ],
   "source": [
    "##polymorphism is nothing but ability to take multiple forms\n",
    "class Vehicle:\n",
    "    def __init__(self,color,maxspeed):\n",
    "        self.color=color\n",
    "        self.__maxspeed=maxspeed\n",
    "    def Getmaxspeed(self):\n",
    "        return self.__maxspeed\n",
    "    def Setmaxspeed(self,maxspeed):\n",
    "        self.__maxspeed=maxspeed\n",
    "    def print(self):\n",
    "        print('Color :',self.color)\n",
    "        print('maxspeed :',self.__maxspeed)\n",
    "class Car(Vehicle):\n",
    "    def __init__(self,color,maxspeed,numgears,isconvertible):\n",
    "        super().__init__(color,maxspeed)\n",
    "        self.numgears=numgears\n",
    "        self.isconvertible=isconvertible\n",
    "        \n",
    "    def print(self):\n",
    "        #self.print()\n",
    "        super().print()\n",
    "        print('numgears :',self.numgears)\n",
    "        print('isconvertible :',self.isconvertible)\n",
    "c=Car('red',40,2,False)\n",
    "c.print()\n",
    "print()\n",
    "v=Vehicle('red',40)\n",
    "v.print()\n"
   ]
  },
  {
   "cell_type": "code",
   "execution_count": 23,
   "metadata": {},
   "outputs": [
    {
     "name": "stdout",
     "output_type": "stream",
     "text": [
      "\n",
      "name : abhishek\n",
      "number : 12\n",
      "category : grocery\n",
      "company_name : mario\n"
     ]
    }
   ],
   "source": [
    "class Shubham_store:\n",
    "    def __init__(self,name,number,category):\n",
    "        self.name=name\n",
    "        self.number=number\n",
    "        self.category=category\n",
    "    def print(self):\n",
    "        print('name :',self.name)\n",
    "        print('number :',self.number)\n",
    "        print('category :',self.category)\n",
    "class Biscuit(Shubham_store):\n",
    "    def __init__(self,name,number,category,company_name):\n",
    "        super().__init__(name,number,category)\n",
    "        self.company_name=company_name\n",
    "    def print(self):\n",
    "        super().print()\n",
    "        print('company_name :',self.company_name)\n",
    "#c=Shubham_store('abhishek',12,'grocery')\n",
    "#c.print()\n",
    "print()\n",
    "v=Biscuit('abhishek',12,'grocery','mario')\n",
    "v.print()"
   ]
  },
  {
   "cell_type": "markdown",
   "metadata": {},
   "source": [
    "# Multiple Inheritence"
   ]
  },
  {
   "cell_type": "code",
   "execution_count": 13,
   "metadata": {},
   "outputs": [
    {
     "name": "stdout",
     "output_type": "stream",
     "text": [
      "name of the child is Anju\n"
     ]
    }
   ],
   "source": [
    "class Mother:\n",
    "    def __init__(self):\n",
    "        self.name='Anju'\n",
    "class Father:\n",
    "    def __init__(self):\n",
    "        self.name='mukesh'\n",
    "class Child(Mother,Father):\n",
    "    def __init__(self):\n",
    "        super().__init__()\n",
    "    def printchild(self):\n",
    "        print('name of the child is',self.name)\n",
    "        \n",
    "c=Child()  \n",
    "c.printchild()\n"
   ]
  },
  {
   "cell_type": "markdown",
   "metadata": {},
   "source": [
    "# Method resolutin order(MRO)"
   ]
  },
  {
   "cell_type": "code",
   "execution_count": 4,
   "metadata": {},
   "outputs": [
    {
     "name": "stdout",
     "output_type": "stream",
     "text": [
      "class child is called\n"
     ]
    },
    {
     "data": {
      "text/plain": [
       "[__main__.child, __main__.mother, __main__.father, object]"
      ]
     },
     "execution_count": 4,
     "metadata": {},
     "output_type": "execute_result"
    }
   ],
   "source": [
    "class mother:\n",
    "    def print(self):\n",
    "        print('class mother is called')\n",
    "class father:\n",
    "    def print(self):\n",
    "        print('class father is called')\n",
    "class child(mother,father):\n",
    "    def print(self):\n",
    "        print('class child is called')\n",
    "c=child()    \n",
    "c.print()\n",
    "child.mro()"
   ]
  },
  {
   "cell_type": "code",
   "execution_count": null,
   "metadata": {},
   "outputs": [],
   "source": []
  },
  {
   "cell_type": "code",
   "execution_count": null,
   "metadata": {},
   "outputs": [],
   "source": []
  }
 ],
 "metadata": {
  "kernelspec": {
   "display_name": "Python 3",
   "language": "python",
   "name": "python3"
  },
  "language_info": {
   "codemirror_mode": {
    "name": "ipython",
    "version": 3
   },
   "file_extension": ".py",
   "mimetype": "text/x-python",
   "name": "python",
   "nbconvert_exporter": "python",
   "pygments_lexer": "ipython3",
   "version": "3.8.3"
  }
 },
 "nbformat": 4,
 "nbformat_minor": 4
}
