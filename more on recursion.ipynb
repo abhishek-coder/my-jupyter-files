{
 "cells": [
  {
   "cell_type": "code",
   "execution_count": 24,
   "metadata": {},
   "outputs": [
    {
     "name": "stdout",
     "output_type": "stream",
     "text": [
      "bbbbccddss\n"
     ]
    }
   ],
   "source": [
    "str='aabbccddss'\n",
    "print(str.replace('a','b'))"
   ]
  },
  {
   "cell_type": "code",
   "execution_count": 2,
   "metadata": {},
   "outputs": [
    {
     "name": "stdout",
     "output_type": "stream",
     "text": [
      "bbbbccddss\n"
     ]
    }
   ],
   "source": [
    "str='aabbccddss'\n",
    "st1=''\n",
    "for letter in str:\n",
    "    if(letter=='a'):\n",
    "        st1+='b'\n",
    "    else:\n",
    "        st1+=letter\n",
    "print(st1)        "
   ]
  },
  {
   "cell_type": "code",
   "execution_count": 32,
   "metadata": {},
   "outputs": [],
   "source": [
    "#base case: if len is 0 return string\n",
    "#inductionhypothesis: my function going to work fine for s[1:]\n",
    "#induction step: im gonna check for s[0]==a then return b+smalloutput else s[0]+smalloutput\n",
    "def replace(s,a,b):\n",
    "    l=len(s)\n",
    "    if l ==0:\n",
    "        return s\n",
    "    smalloutput=replace(s[1:],a,b)\n",
    "    if(s[0]==a):\n",
    "        return b + smalloutput\n",
    "    else:\n",
    "        return s[0]+smalloutput\n",
    "        "
   ]
  },
  {
   "cell_type": "code",
   "execution_count": 33,
   "metadata": {},
   "outputs": [
    {
     "data": {
      "text/plain": [
       "'bbbbccdd'"
      ]
     },
     "execution_count": 33,
     "metadata": {},
     "output_type": "execute_result"
    }
   ],
   "source": [
    "replace('aabbccdd','a','b')"
   ]
  },
  {
   "cell_type": "code",
   "execution_count": 40,
   "metadata": {},
   "outputs": [],
   "source": [
    "##removing the x from string using recursion\n",
    "#base case: if l==0 return s\n",
    "#induction hypothesis: my functon working fine for s[1:]\n",
    "#induction step:if s[0]==x remove else s[0]+smalloutput\n",
    "def RemoveX(s):\n",
    "    l=len(s)\n",
    "    if(l==0):\n",
    "        return s\n",
    "    smalloutput=RemoveX(s[1:])\n",
    "    if(s[0]=='x'):\n",
    "        return smalloutput\n",
    "    else:\n",
    "        return s[0] +smalloutput\n"
   ]
  },
  {
   "cell_type": "code",
   "execution_count": 44,
   "metadata": {},
   "outputs": [
    {
     "data": {
      "text/plain": [
       "'cccc'"
      ]
     },
     "execution_count": 44,
     "metadata": {},
     "output_type": "execute_result"
    }
   ],
   "source": [
    "RemoveX('xcxcxcxc')"
   ]
  },
  {
   "cell_type": "code",
   "execution_count": 48,
   "metadata": {},
   "outputs": [
    {
     "data": {
      "text/plain": [
       "'cc'"
      ]
     },
     "execution_count": 48,
     "metadata": {},
     "output_type": "execute_result"
    }
   ],
   "source": [
    "str='ccxx'\n",
    "str.replace('x','')"
   ]
  },
  {
   "cell_type": "code",
   "execution_count": 52,
   "metadata": {},
   "outputs": [
    {
     "data": {
      "text/plain": [
       "'3.143.14pcd3.14ipbdjw'"
      ]
     },
     "execution_count": 52,
     "metadata": {},
     "output_type": "execute_result"
    }
   ],
   "source": [
    "#replace pi with 3.14 in a given string\n",
    "##base case: if len of s is 0 and 1 return string\n",
    "##induction hypothesis: function working absolutely fine for s[2:]\n",
    "##induction step: check for if s[0]and s[1]==p and i return '3.14'+smalloutput\n",
    "## else: return s[0]+smallotuput with s[1:]\n",
    "def removepi(s):\n",
    "    l=len(s)\n",
    "    if(l==0 or l==1):\n",
    "        return s\n",
    "    if(s[0]=='p'and s[1]=='i'):\n",
    "        smalloutput=removepi(s[2:])\n",
    "        return '3.14'+smalloutput\n",
    "    else:\n",
    "        smalloutput=removepi(s[1:])\n",
    "        return s[0]+smalloutput\n",
    "    \n",
    "removepi('pipipcdpiipbdjw')"
   ]
  },
  {
   "cell_type": "code",
   "execution_count": 26,
   "metadata": {},
   "outputs": [
    {
     "name": "stdout",
     "output_type": "stream",
     "text": [
      "xyzwz\n"
     ]
    }
   ],
   "source": [
    "##removeconsecutiveduplicates in a given string using recursion\n",
    "##base case: if len is 1 and 0 return s\n",
    "##induction hypothesis: my function is working absolutely fine for s[1:]\n",
    "def removeconsecutiveduplicates(str):\n",
    "    l=len(str)\n",
    "    str1=''\n",
    "    if(l==0 or l==1):\n",
    "        return str\n",
    "    if(str[0]==str[1]):\n",
    "        \n",
    "        smalloutput= removeconsecutiveduplicates(str[1:])\n",
    "        return  smalloutput\n",
    "    else:\n",
    "        str1+=str[0]\n",
    "        \n",
    "        smalloutput= removeconsecutiveduplicates(str[1:])\n",
    "        return str1 + smalloutput\n",
    "    \n",
    "str='xxxyyyzwwzzz'\n",
    "print(removeconsecutiveduplicates(str))"
   ]
  },
  {
   "cell_type": "code",
   "execution_count": null,
   "metadata": {},
   "outputs": [],
   "source": [
    "xyzwz"
   ]
  },
  {
   "cell_type": "code",
   "execution_count": 24,
   "metadata": {},
   "outputs": [
    {
     "data": {
      "text/plain": [
       "'abca'"
      ]
     },
     "execution_count": 24,
     "metadata": {},
     "output_type": "execute_result"
    }
   ],
   "source": [
    "def removeconsecutive(str):\n",
    "    l=len(str)\n",
    "    i=0\n",
    "    str1=''\n",
    "    while(i<l-1):\n",
    "        if(str[i]!=str[i+1]):\n",
    "            str1+=str[i]\n",
    "            i+=1\n",
    "        if(i<l-1 and str[i]==str[i+1]):\n",
    "            i+=1\n",
    "    return str1+str[i]\n",
    "removeconsecutive('abbca')\n",
    "            "
   ]
  },
  {
   "cell_type": "code",
   "execution_count": 27,
   "metadata": {},
   "outputs": [
    {
     "name": "stdout",
     "output_type": "stream",
     "text": [
      "0\n"
     ]
    }
   ],
   "source": [
    "#binary search iteratively\n",
    "def binary_search(arr,x):\n",
    "    l=len(arr)\n",
    "    start=0\n",
    "    end=l-1\n",
    "    while(start<=end):\n",
    "        mid=(start+end)//2\n",
    "        if(arr[mid]==x):\n",
    "            return mid\n",
    "        elif(arr[mid]<x):\n",
    "            start=mid+1\n",
    "        else:\n",
    "            end=mid-1   \n",
    "    return -1\n",
    "arr=[1,2,3,4,5,6,7]\n",
    "result=binary_search(arr,1)\n",
    "print(result)\n"
   ]
  },
  {
   "cell_type": "code",
   "execution_count": 36,
   "metadata": {},
   "outputs": [
    {
     "data": {
      "text/plain": [
       "5"
      ]
     },
     "execution_count": 36,
     "metadata": {},
     "output_type": "execute_result"
    }
   ],
   "source": [
    "#binry search using recursion\n",
    "#base case: if my starting index crosses end index then i return -1\n",
    "#induction hypothesis: my function will work fine for smalleroutput\n",
    "#induction step: i compare my x with arr[mid]\n",
    "def binary_search(arr,si,ei,x):\n",
    "    if(si>ei):\n",
    "        return -1\n",
    "    mid=(si+ei)//2\n",
    "    if(arr[mid]==x):\n",
    "        return mid\n",
    "    elif(arr[mid]<x):\n",
    "        return binary_search(arr,mid+1,ei,x)\n",
    "    else:\n",
    "        return binary_search(arr,si,mid-1,x)\n",
    "arr=[1,2,3,12,23,45,67]\n",
    "binary_search(arr,0,6,45)"
   ]
  },
  {
   "cell_type": "code",
   "execution_count": 2,
   "metadata": {},
   "outputs": [
    {
     "name": "stdout",
     "output_type": "stream",
     "text": [
      "[1, 2, 3, 4, 5, 5, 6, 7, 8, 9]\n"
     ]
    }
   ],
   "source": [
    "##merge sort iteratively\n",
    "def mergesort(arr1,arr2):\n",
    "    n=len(arr1)\n",
    "    m=len(arr2)\n",
    "    arr=[]\n",
    "    i=0\n",
    "    j=0\n",
    "    while(i<n and j<m):\n",
    "        if(arr1[i]>arr2[j]):\n",
    "            arr.append(arr2[j])\n",
    "            j+=1\n",
    "        else:\n",
    "            arr.append(arr1[i])\n",
    "            i+=1\n",
    "    while(i<n):\n",
    "        arr.append(arr1[i])\n",
    "        i+=1\n",
    "    while(j<m):\n",
    "        arr.append(arr2[j])\n",
    "        j+=1\n",
    "    return arr    \n",
    "arr1=[1,2,3,4,5]\n",
    "arr2=[5,6,7,8,9]\n",
    "result=mergesort(arr1,arr2)\n",
    "print(result)\n"
   ]
  },
  {
   "cell_type": "code",
   "execution_count": 81,
   "metadata": {},
   "outputs": [],
   "source": [
    "##merge sort using recursion\n",
    "def merge(a1,a2,a):\n",
    "    i=0\n",
    "    j=0\n",
    "    k=0\n",
    "    arr=[]\n",
    "    while(i<len(a1) and j<len(a2)):\n",
    "        if(a1[i]>a2[j]):\n",
    "            arr.append(a2[j])\n",
    "            j+=1\n",
    "        else:\n",
    "            arr.append(a1[i])\n",
    "            i+=1\n",
    "    while(i<len(a1)):\n",
    "        arr.append(a1[i])\n",
    "        i+=1\n",
    "    while(j<len(a2)):\n",
    "        arr.append(a2[j])\n",
    "        j+=1\n",
    "    return arr    "
   ]
  },
  {
   "cell_type": "code",
   "execution_count": 82,
   "metadata": {},
   "outputs": [],
   "source": [
    "##mergesort using recursion\n",
    "def mergesort(a):\n",
    "    if(len(a)==0 or len(a)==1):\n",
    "        return \n",
    "    mid=len(a)//2\n",
    "    a1=a[0:mid]\n",
    "    a2=a[mid:]\n",
    "    mergesort(a1)\n",
    "    mergesort(a2)\n",
    "    \n",
    "    merge(a1,a2,a)\n",
    "\n",
    "    \n",
    "    \n",
    "    \n"
   ]
  },
  {
   "cell_type": "code",
   "execution_count": 83,
   "metadata": {},
   "outputs": [
    {
     "name": "stdout",
     "output_type": "stream",
     "text": [
      "[2, 1, 3, 1, 2, 4]\n"
     ]
    }
   ],
   "source": [
    "a=[2,1,3,1,2,4]\n",
    "mergesort(a)\n",
    "print(a)\n"
   ]
  },
  {
   "cell_type": "code",
   "execution_count": 51,
   "metadata": {},
   "outputs": [],
   "source": [
    "##partiton function\n",
    "def partition(arr,si,ei):\n",
    "    pilot=arr[si]\n",
    "    c=0\n",
    "    for i in range(si,ei+1):\n",
    "        if(arr[i]<pilot):\n",
    "            c+=1\n",
    "    arr[si+c],arr[si]=arr[si],arr[si+c]\n",
    "    pilot_index=si+c\n",
    "    \n",
    "    i=si\n",
    "    j=ei\n",
    "    while(i<j):\n",
    "        if(arr[i]<pilot):\n",
    "            i+=1\n",
    "        elif(arr[j]>=pilot):\n",
    "            j-=1\n",
    "        else:\n",
    "            arr[i],arr[j]=arr[j],arr[i]\n",
    "            i+=1\n",
    "            j-=1\n",
    "\n",
    "    return pilot\n",
    "        \n",
    "        \n"
   ]
  },
  {
   "cell_type": "code",
   "execution_count": 52,
   "metadata": {},
   "outputs": [],
   "source": [
    "##quick sort\n",
    "def quick_sort(arr,si,ei):\n",
    "    if si>=ei:\n",
    "        return\n",
    "    pilot_index=partition(arr,si,ei)\n",
    "    quick_sort(arr,si,pilot_index-1)\n",
    "    quick_sort(arr,pilot_index+1,ei)\n",
    "    \n",
    "    "
   ]
  },
  {
   "cell_type": "code",
   "execution_count": 53,
   "metadata": {},
   "outputs": [
    {
     "data": {
      "text/plain": [
       "[1, 2, 3, 4, 5, 6, 7, 8, 9, 10]"
      ]
     },
     "execution_count": 53,
     "metadata": {},
     "output_type": "execute_result"
    }
   ],
   "source": [
    "arr=[6,10,2,3,4,5,7,8,9,1]\n",
    "quick_sort(arr,0,len(arr)-1)\n",
    "arr"
   ]
  },
  {
   "cell_type": "code",
   "execution_count": 6,
   "metadata": {},
   "outputs": [],
   "source": [
    "##tower of hanoi\n",
    "def tower_of_hanoi(n,a,b,c):\n",
    "    if(n==1):\n",
    "        print('move 1st disk from',a,'to',c)\n",
    "        return\n",
    "    tower_of_hanoi(n-1,a,c,b)\n",
    "    print('move',n,' th disk from',a ,'to',c)\n",
    "    tower_of_hanoi(n-1,b,a,c)\n",
    "        "
   ]
  },
  {
   "cell_type": "code",
   "execution_count": 8,
   "metadata": {},
   "outputs": [
    {
     "name": "stdout",
     "output_type": "stream",
     "text": [
      "move 1st disk from s to h\n",
      "move 2  th disk from s to d\n",
      "move 1st disk from h to d\n",
      "move 3  th disk from s to h\n",
      "move 1st disk from d to s\n",
      "move 2  th disk from d to h\n",
      "move 1st disk from s to h\n",
      "move 4  th disk from s to d\n",
      "move 1st disk from h to d\n",
      "move 2  th disk from h to s\n",
      "move 1st disk from d to s\n",
      "move 3  th disk from h to d\n",
      "move 1st disk from s to h\n",
      "move 2  th disk from s to d\n",
      "move 1st disk from h to d\n"
     ]
    }
   ],
   "source": [
    "tower_of_hanoi(4,'s','h','d')"
   ]
  },
  {
   "cell_type": "code",
   "execution_count": 78,
   "metadata": {},
   "outputs": [],
   "source": [
    "def merge(a1,a2):\n",
    "    i=0\n",
    "    j=0\n",
    "    arr1=[]\n",
    "    while(i<len(a1) or j<len(a2)):\n",
    "        if(a1[i]>a2[j]):\n",
    "            arr1.append(a2[j])\n",
    "            j+=1\n",
    "        else:\n",
    "            arr1.append(a1[i])\n",
    "            i+=1\n",
    "    while(i<len(a1)):\n",
    "        arr1.append(a1[i])\n",
    "        i+=1\n",
    "    while(j<len(a2)):\n",
    "        arr.append(a2[j])\n",
    "        j+=1\n",
    "    return arr1\n",
    "        "
   ]
  },
  {
   "cell_type": "code",
   "execution_count": 79,
   "metadata": {},
   "outputs": [],
   "source": [
    "def mergeSort(arr):\n",
    "    if(len(arr)==0 or len(arr)==1):\n",
    "        return\n",
    "    mid=len(arr)//2\n",
    "    a1=arr[0:mid]\n",
    "    a2=arr[mid:]\n",
    "    mergeSort(a1)\n",
    "    mergeSort(a2)\n",
    "    merge(a1,a2)"
   ]
  },
  {
   "cell_type": "code",
   "execution_count": 80,
   "metadata": {},
   "outputs": [
    {
     "ename": "IndexError",
     "evalue": "list index out of range",
     "output_type": "error",
     "traceback": [
      "\u001b[1;31m---------------------------------------------------------------------------\u001b[0m",
      "\u001b[1;31mIndexError\u001b[0m                                Traceback (most recent call last)",
      "\u001b[1;32m<ipython-input-80-8f6bf1f7159b>\u001b[0m in \u001b[0;36m<module>\u001b[1;34m\u001b[0m\n\u001b[0;32m      1\u001b[0m \u001b[0marr\u001b[0m\u001b[1;33m=\u001b[0m\u001b[1;33m[\u001b[0m\u001b[1;36m3\u001b[0m\u001b[1;33m,\u001b[0m\u001b[1;36m4\u001b[0m\u001b[1;33m,\u001b[0m\u001b[1;36m2\u001b[0m\u001b[1;33m,\u001b[0m\u001b[1;36m1\u001b[0m\u001b[1;33m]\u001b[0m\u001b[1;33m\u001b[0m\u001b[1;33m\u001b[0m\u001b[0m\n\u001b[1;32m----> 2\u001b[1;33m \u001b[0mmergeSort\u001b[0m\u001b[1;33m(\u001b[0m\u001b[0marr\u001b[0m\u001b[1;33m)\u001b[0m\u001b[1;33m\u001b[0m\u001b[1;33m\u001b[0m\u001b[0m\n\u001b[0m\u001b[0;32m      3\u001b[0m \u001b[0marr\u001b[0m\u001b[1;33m\u001b[0m\u001b[1;33m\u001b[0m\u001b[0m\n",
      "\u001b[1;32m<ipython-input-79-f674a1cbcd51>\u001b[0m in \u001b[0;36mmergeSort\u001b[1;34m(arr)\u001b[0m\n\u001b[0;32m      5\u001b[0m     \u001b[0ma1\u001b[0m\u001b[1;33m=\u001b[0m\u001b[0marr\u001b[0m\u001b[1;33m[\u001b[0m\u001b[1;36m0\u001b[0m\u001b[1;33m:\u001b[0m\u001b[0mmid\u001b[0m\u001b[1;33m]\u001b[0m\u001b[1;33m\u001b[0m\u001b[1;33m\u001b[0m\u001b[0m\n\u001b[0;32m      6\u001b[0m     \u001b[0ma2\u001b[0m\u001b[1;33m=\u001b[0m\u001b[0marr\u001b[0m\u001b[1;33m[\u001b[0m\u001b[0mmid\u001b[0m\u001b[1;33m:\u001b[0m\u001b[1;33m]\u001b[0m\u001b[1;33m\u001b[0m\u001b[1;33m\u001b[0m\u001b[0m\n\u001b[1;32m----> 7\u001b[1;33m     \u001b[0mmergeSort\u001b[0m\u001b[1;33m(\u001b[0m\u001b[0ma1\u001b[0m\u001b[1;33m)\u001b[0m\u001b[1;33m\u001b[0m\u001b[1;33m\u001b[0m\u001b[0m\n\u001b[0m\u001b[0;32m      8\u001b[0m     \u001b[0mmergeSort\u001b[0m\u001b[1;33m(\u001b[0m\u001b[0ma2\u001b[0m\u001b[1;33m)\u001b[0m\u001b[1;33m\u001b[0m\u001b[1;33m\u001b[0m\u001b[0m\n\u001b[0;32m      9\u001b[0m     \u001b[0mmerge\u001b[0m\u001b[1;33m(\u001b[0m\u001b[0ma1\u001b[0m\u001b[1;33m,\u001b[0m\u001b[0ma2\u001b[0m\u001b[1;33m)\u001b[0m\u001b[1;33m\u001b[0m\u001b[1;33m\u001b[0m\u001b[0m\n",
      "\u001b[1;32m<ipython-input-79-f674a1cbcd51>\u001b[0m in \u001b[0;36mmergeSort\u001b[1;34m(arr)\u001b[0m\n\u001b[0;32m      7\u001b[0m     \u001b[0mmergeSort\u001b[0m\u001b[1;33m(\u001b[0m\u001b[0ma1\u001b[0m\u001b[1;33m)\u001b[0m\u001b[1;33m\u001b[0m\u001b[1;33m\u001b[0m\u001b[0m\n\u001b[0;32m      8\u001b[0m     \u001b[0mmergeSort\u001b[0m\u001b[1;33m(\u001b[0m\u001b[0ma2\u001b[0m\u001b[1;33m)\u001b[0m\u001b[1;33m\u001b[0m\u001b[1;33m\u001b[0m\u001b[0m\n\u001b[1;32m----> 9\u001b[1;33m     \u001b[0mmerge\u001b[0m\u001b[1;33m(\u001b[0m\u001b[0ma1\u001b[0m\u001b[1;33m,\u001b[0m\u001b[0ma2\u001b[0m\u001b[1;33m)\u001b[0m\u001b[1;33m\u001b[0m\u001b[1;33m\u001b[0m\u001b[0m\n\u001b[0m",
      "\u001b[1;32m<ipython-input-78-b85a900226e6>\u001b[0m in \u001b[0;36mmerge\u001b[1;34m(a1, a2)\u001b[0m\n\u001b[0;32m      4\u001b[0m     \u001b[0marr1\u001b[0m\u001b[1;33m=\u001b[0m\u001b[1;33m[\u001b[0m\u001b[1;33m]\u001b[0m\u001b[1;33m\u001b[0m\u001b[1;33m\u001b[0m\u001b[0m\n\u001b[0;32m      5\u001b[0m     \u001b[1;32mwhile\u001b[0m\u001b[1;33m(\u001b[0m\u001b[0mi\u001b[0m\u001b[1;33m<\u001b[0m\u001b[0mlen\u001b[0m\u001b[1;33m(\u001b[0m\u001b[0ma1\u001b[0m\u001b[1;33m)\u001b[0m \u001b[1;32mor\u001b[0m \u001b[0mj\u001b[0m\u001b[1;33m<\u001b[0m\u001b[0mlen\u001b[0m\u001b[1;33m(\u001b[0m\u001b[0ma2\u001b[0m\u001b[1;33m)\u001b[0m\u001b[1;33m)\u001b[0m\u001b[1;33m:\u001b[0m\u001b[1;33m\u001b[0m\u001b[1;33m\u001b[0m\u001b[0m\n\u001b[1;32m----> 6\u001b[1;33m         \u001b[1;32mif\u001b[0m\u001b[1;33m(\u001b[0m\u001b[0ma1\u001b[0m\u001b[1;33m[\u001b[0m\u001b[0mi\u001b[0m\u001b[1;33m]\u001b[0m\u001b[1;33m>\u001b[0m\u001b[0ma2\u001b[0m\u001b[1;33m[\u001b[0m\u001b[0mj\u001b[0m\u001b[1;33m]\u001b[0m\u001b[1;33m)\u001b[0m\u001b[1;33m:\u001b[0m\u001b[1;33m\u001b[0m\u001b[1;33m\u001b[0m\u001b[0m\n\u001b[0m\u001b[0;32m      7\u001b[0m             \u001b[0marr1\u001b[0m\u001b[1;33m.\u001b[0m\u001b[0mappend\u001b[0m\u001b[1;33m(\u001b[0m\u001b[0ma2\u001b[0m\u001b[1;33m[\u001b[0m\u001b[0mj\u001b[0m\u001b[1;33m]\u001b[0m\u001b[1;33m)\u001b[0m\u001b[1;33m\u001b[0m\u001b[1;33m\u001b[0m\u001b[0m\n\u001b[0;32m      8\u001b[0m             \u001b[0mj\u001b[0m\u001b[1;33m+=\u001b[0m\u001b[1;36m1\u001b[0m\u001b[1;33m\u001b[0m\u001b[1;33m\u001b[0m\u001b[0m\n",
      "\u001b[1;31mIndexError\u001b[0m: list index out of range"
     ]
    }
   ],
   "source": [
    "arr=[3,4,2,1]\n",
    "mergeSort(arr)\n",
    "arr"
   ]
  },
  {
   "cell_type": "code",
   "execution_count": null,
   "metadata": {},
   "outputs": [],
   "source": []
  },
  {
   "cell_type": "code",
   "execution_count": null,
   "metadata": {},
   "outputs": [],
   "source": []
  }
 ],
 "metadata": {
  "kernelspec": {
   "display_name": "Python 3",
   "language": "python",
   "name": "python3"
  },
  "language_info": {
   "codemirror_mode": {
    "name": "ipython",
    "version": 3
   },
   "file_extension": ".py",
   "mimetype": "text/x-python",
   "name": "python",
   "nbconvert_exporter": "python",
   "pygments_lexer": "ipython3",
   "version": "3.8.3"
  }
 },
 "nbformat": 4,
 "nbformat_minor": 4
}
