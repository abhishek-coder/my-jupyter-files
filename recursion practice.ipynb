{
 "cells": [
  {
   "cell_type": "code",
   "execution_count": 2,
   "metadata": {},
   "outputs": [
    {
     "data": {
      "text/plain": [
       "4"
      ]
     },
     "execution_count": 2,
     "metadata": {},
     "output_type": "execute_result"
    }
   ],
   "source": [
    "##Write a program to find x to the power n (i.e. x^n). Take x and n from the user. You need to print the answer.\n",
    "def power_of_number(x,n):\n",
    "    if(n==0):\n",
    "        return 1\n",
    "    smalloutput=power_of_number(x,n-1)\n",
    "    return smalloutput*x\n",
    "power_of_number(2,2)\n",
    "    "
   ]
  },
  {
   "cell_type": "code",
   "execution_count": 5,
   "metadata": {},
   "outputs": [
    {
     "name": "stdout",
     "output_type": "stream",
     "text": [
      "4 5 6 7\n"
     ]
    },
    {
     "data": {
      "text/plain": [
       "22"
      ]
     },
     "execution_count": 5,
     "metadata": {},
     "output_type": "execute_result"
    }
   ],
   "source": [
    "###sum of an array\n",
    "def sum_of_an_array(arr):\n",
    "    if(len(arr)==0):\n",
    "        return 0\n",
    "    if(len(arr)==1):\n",
    "        return arr[0]\n",
    "    smalloutput=sum_of_an_array(arr[1:])\n",
    "    return smalloutput+arr[0]\n",
    "sum_of_an_array(arr=[int(x) for x in input().split()])"
   ]
  },
  {
   "cell_type": "code",
   "execution_count": 28,
   "metadata": {},
   "outputs": [
    {
     "name": "stdout",
     "output_type": "stream",
     "text": [
      "False\n"
     ]
    }
   ],
   "source": [
    "##Given an array of length N and an integer x, you need to find if x is present in the array or not. Return true or false.\n",
    "def check_number_in_array(arr,n):\n",
    "    if(len(arr)==0):\n",
    "        return False\n",
    "    smalloutput=check_number_in_array(arr[1:],n)\n",
    "    if(arr[0]==n):\n",
    "        return True\n",
    "    else:\n",
    "        return smalloutput\n",
    "    \n",
    "result=check_number_in_array([1,2,3,4],7)\n",
    "print(result)"
   ]
  },
  {
   "cell_type": "code",
   "execution_count": 30,
   "metadata": {},
   "outputs": [
    {
     "data": {
      "text/plain": [
       "3"
      ]
     },
     "execution_count": 30,
     "metadata": {},
     "output_type": "execute_result"
    }
   ],
   "source": [
    "##first index of a number in the list\n",
    "def First_index(arr,n):\n",
    "    if(len(arr)==0):\n",
    "        return -1\n",
    "    smalloutput=First_index(arr[1:],n)\n",
    "    if(arr[0]==n):\n",
    "        return 0\n",
    "    else:\n",
    "        return smalloutput+1\n",
    "First_index([1,2,3,4],4)    "
   ]
  },
  {
   "cell_type": "code",
   "execution_count": 35,
   "metadata": {},
   "outputs": [
    {
     "data": {
      "text/plain": [
       "5"
      ]
     },
     "execution_count": 35,
     "metadata": {},
     "output_type": "execute_result"
    }
   ],
   "source": [
    "##last index of a number\n",
    "def last_index(arr,n):\n",
    "    if(len(arr)==0):\n",
    "        return -1\n",
    "    smalloutput=last_index(arr[1:],n)\n",
    "    if smalloutput==-1:\n",
    "        if(arr[0]==n):\n",
    "            return 0\n",
    "        else:\n",
    "            return -1\n",
    "    else:\n",
    "        return smalloutput+1\n",
    "last_index([1,2,3,4,5,2],2)\n"
   ]
  },
  {
   "cell_type": "code",
   "execution_count": 3,
   "metadata": {},
   "outputs": [
    {
     "data": {
      "text/plain": [
       "'aa'"
      ]
     },
     "execution_count": 3,
     "metadata": {},
     "output_type": "execute_result"
    }
   ],
   "source": [
    "##Given a string, compute recursively a new string where all 'x' chars have been removed.\n",
    "def Remove_x(s):\n",
    "    if(len(s)==0):\n",
    "        return s\n",
    "    smalloutput=Remove_x(s[1:])\n",
    "    if(s[0]=='x'):\n",
    "        return smalloutput\n",
    "    else:\n",
    "        return smalloutput+s[0]\n",
    "Remove_x('xaxa')"
   ]
  },
  {
   "cell_type": "code",
   "execution_count": 3,
   "metadata": {},
   "outputs": [
    {
     "data": {
      "text/plain": [
       "[1, 2, 3, 4, 5, 6, 7, 8, 9]"
      ]
     },
     "execution_count": 3,
     "metadata": {},
     "output_type": "execute_result"
    }
   ],
   "source": [
    "##merge sort\n",
    "def merge_sort(arr,n):\n",
    "    l=len(arr)\n",
    "    if(l==0 or l==1):\n",
    "        return\n",
    "    mid=l//2\n",
    "    a1=arr[0:mid]\n",
    "    a2=arr[mid:]\n",
    "    merge_sort(a1,mid)\n",
    "    merge_sort(a2,n)\n",
    "    merge(a1,a2,arr)\n",
    "def merge(a1,a2,arr):\n",
    "    i=0\n",
    "    j=0\n",
    "    k=0\n",
    "    while(i<len(a1) and j<len(a2)):\n",
    "        if(a1[i]<a2[j]):\n",
    "            arr[k]=a1[i]\n",
    "            i+=1\n",
    "            k+=1\n",
    "        else:\n",
    "            arr[k]=a2[j]\n",
    "            j+=1\n",
    "            k+=1\n",
    "    while(i<len(a1)):\n",
    "        arr[k]=a1[i]\n",
    "        i+=1\n",
    "        k+=1\n",
    "    while(j<len(a2)):\n",
    "        arr[k]=a2[j]\n",
    "        j+=1\n",
    "        k+=1\n",
    "arr=[9,8,7,6,5,4,3,2,1]\n",
    "merge_sort(arr,0)\n",
    "arr\n",
    "        "
   ]
  },
  {
   "cell_type": "code",
   "execution_count": 1,
   "metadata": {},
   "outputs": [
    {
     "data": {
      "text/plain": [
       "[1, 2, 3, 4, 5, 6, 7, 8, 9]"
      ]
     },
     "execution_count": 1,
     "metadata": {},
     "output_type": "execute_result"
    }
   ],
   "source": [
    "##quick_sort\n",
    "def quick_sort(arr,si,ei):\n",
    "    if si>ei:\n",
    "        return\n",
    "    pilot_index=partition(arr,si,ei)\n",
    "    quick_sort(arr,si,pilot_index-1)\n",
    "    quick_sort(arr,pilot_index+1,ei)\n",
    "def partition(arr,si,ei):\n",
    "    p=arr[si]\n",
    "    c=0\n",
    "    for i in range(si,ei+1):\n",
    "        if(arr[i]<p):\n",
    "            c+=1\n",
    "    arr[si],arr[si+c]=arr[si+c],arr[si]\n",
    "    pilot_index=si+c\n",
    "    i=si\n",
    "    j=ei\n",
    "    while(i<j):\n",
    "        if(arr[i]<p):\n",
    "            i+=1\n",
    "        elif(arr[j]>=p):\n",
    "            j-=1\n",
    "        else:\n",
    "            arr[i],arr[j]=arr[j],arr[i]\n",
    "            i+=1\n",
    "            j-=1\n",
    "    return pilot_index\n",
    "arr=[9,8,7,6,5,4,3,2,1]\n",
    "quick_sort(arr,0,len(arr)-1)\n",
    "arr"
   ]
  },
  {
   "cell_type": "code",
   "execution_count": 4,
   "metadata": {},
   "outputs": [
    {
     "name": "stdout",
     "output_type": "stream",
     "text": [
      "3\n"
     ]
    },
    {
     "data": {
      "text/plain": [
       "0.875"
      ]
     },
     "execution_count": 4,
     "metadata": {},
     "output_type": "execute_result"
    }
   ],
   "source": [
    "##geometric_sum\n",
    "def geometric_sum(k):\n",
    "    if(k==0):\n",
    "        return 0\n",
    "    smalloutput=geometric_sum(k-1)\n",
    "    return smalloutput + 1/2**k\n",
    "geometric_sum(k=int(input()))"
   ]
  },
  {
   "cell_type": "code",
   "execution_count": 12,
   "metadata": {},
   "outputs": [
    {
     "name": "stdout",
     "output_type": "stream",
     "text": [
      "ninja\n",
      "false\n"
     ]
    }
   ],
   "source": [
    "#Check whether a given String S is a palindrome using recursion. Return true or false\n",
    "def palindrome_check(s):\n",
    "    if(len(s)==0 or len(s)==1):\n",
    "        return True\n",
    "    if(s[0]==s[-1]):\n",
    "        return palindrome_check(s[1:-1])\n",
    "    else:\n",
    "        return False\n",
    "if(palindrome_check(s=input())):\n",
    "    print('true')\n",
    "else:\n",
    "    print('false')\n",
    "    "
   ]
  },
  {
   "cell_type": "code",
   "execution_count": 13,
   "metadata": {},
   "outputs": [
    {
     "data": {
      "text/plain": [
       "10"
      ]
     },
     "execution_count": 13,
     "metadata": {},
     "output_type": "execute_result"
    }
   ],
   "source": [
    "##Write a recursive function that returns the sum of the digits of a given integer.\n",
    "def sum_of_a_number(k):\n",
    "    if(k==0):\n",
    "        return 0\n",
    "    smalloutput=sum_of_a_number(int(k/10))\n",
    "    return smalloutput+ k%10\n",
    "sum_of_a_number(1234)"
   ]
  },
  {
   "cell_type": "code",
   "execution_count": 19,
   "metadata": {},
   "outputs": [
    {
     "data": {
      "text/plain": [
       "0"
      ]
     },
     "execution_count": 19,
     "metadata": {},
     "output_type": "execute_result"
    }
   ],
   "source": [
    "##Given two integers M & N, calculate and return their multiplication using recursion. You can only use subtraction and addition for your calculation. No other operators are allowed.\n",
    "def multiplication(m,n):\n",
    "    if(m==0):\n",
    "        return 0\n",
    "    smalloutput=multiplication(m-1,n)\n",
    "    return smalloutput+n\n",
    "multiplication(4,0)"
   ]
  },
  {
   "cell_type": "code",
   "execution_count": 30,
   "metadata": {},
   "outputs": [
    {
     "data": {
      "text/plain": [
       "3"
      ]
     },
     "execution_count": 30,
     "metadata": {},
     "output_type": "execute_result"
    }
   ],
   "source": [
    "##Given an integer N, count and return the number of zeros that are present in the given integer using recursion.\n",
    "import sys\n",
    "sys.setrecursionlimit(1100)\n",
    "def count_zeros(n):\n",
    "    if n<10:\n",
    "        if n==0:\n",
    "            return 1\n",
    "        else:\n",
    "            return 0\n",
    "    smalloutput=count_zeros(int(n/10))\n",
    "    if(n%10==0):\n",
    "        return smalloutput+1\n",
    "    else:\n",
    "        return smalloutput\n",
    "count_zeros(10204)       \n",
    "        \n",
    "        "
   ]
  },
  {
   "cell_type": "code",
   "execution_count": null,
   "metadata": {},
   "outputs": [],
   "source": []
  }
 ],
 "metadata": {
  "kernelspec": {
   "display_name": "Python 3",
   "language": "python",
   "name": "python3"
  },
  "language_info": {
   "codemirror_mode": {
    "name": "ipython",
    "version": 3
   },
   "file_extension": ".py",
   "mimetype": "text/x-python",
   "name": "python",
   "nbconvert_exporter": "python",
   "pygments_lexer": "ipython3",
   "version": "3.8.3"
  }
 },
 "nbformat": 4,
 "nbformat_minor": 4
}
